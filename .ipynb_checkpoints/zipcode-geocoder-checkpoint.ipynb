{
 "cells": [
  {
   "cell_type": "markdown",
   "metadata": {},
   "source": [
    "# Simple zip code geocoder\n",
    "\n",
    "US list from: https://www.census.gov/geo/maps-data/data/cbf/cbf_zcta.html\n",
    "Created centroids from file and exported as CSV\n",
    "\n",
    "## Requirements\n",
    "Input CSV file must have a zip code field encoded as a string."
   ]
  },
  {
   "cell_type": "code",
   "execution_count": 1,
   "metadata": {},
   "outputs": [],
   "source": [
    "import csv\n",
    "yourAddresses = \"addresses.1.csv\"\n",
    "yourResults = \"results-test.csv\""
   ]
  },
  {
   "cell_type": "code",
   "execution_count": 2,
   "metadata": {},
   "outputs": [],
   "source": [
    "# Open the CSV file and load it into an iterable list\n",
    "with open(\"zipcodes_latlng.csv\") as zipcodes:\n",
    "    # Create iterable csv.reader object\n",
    "    zips = csv.reader(zipcodes)\n",
    "    # Let's create a list of tuples for all US zip codes.\n",
    "    uslist = list((r[0],r[-2],r[-1], i) for i, r in enumerate(zips))"
   ]
  },
  {
   "cell_type": "code",
   "execution_count": 7,
   "metadata": {},
   "outputs": [],
   "source": [
    "# Open the addresses CSV and create a results file\n",
    "with open(yourAddresses) as addresses:\n",
    "    with open(yourResults, 'w') as results:    \n",
    "        reader = csv.reader(addresses)\n",
    "        writer = csv.writer(results)\n",
    "       \n",
    "        # Add field labels\n",
    "        writer.writerow(next(reader, []) + ['x', 'y'])\n",
    "        \n",
    "        # Iterate through addresses and compare each zip code to all zip codes in US list. 32k+ zip codes \n",
    "        # Geocoding about 670 addresses per second\n",
    "        for row in reader:\n",
    "            # Default that it is not found. Will geocode to Null Island.\n",
    "            x = False \n",
    "            # What is the zip code field in the addresses.csv?\n",
    "#             print(row[2]) \n",
    "            \n",
    "            # Compare selected zip code to all us zip codes, 32k+\n",
    "            for i in uslist:\n",
    "                if row[2] == i[0]:\n",
    "                    writer.writerow(row + [i[1],i[2]])\n",
    "                    x = True # Mark true to say we've got a match!\n",
    "                    break\n",
    "            if x == False:\n",
    "#                 print(f\"####\\n{row[2]}: no match\\n####\")\n",
    "                writer.writerow(row + [0,0]) # Null island, ahoy!\n",
    "        \n",
    "                "
   ]
  },
  {
   "cell_type": "code",
   "execution_count": null,
   "metadata": {},
   "outputs": [],
   "source": []
  }
 ],
 "metadata": {
  "kernelspec": {
   "display_name": "Python 3",
   "language": "python",
   "name": "python3"
  },
  "language_info": {
   "codemirror_mode": {
    "name": "ipython",
    "version": 3
   },
   "file_extension": ".py",
   "mimetype": "text/x-python",
   "name": "python",
   "nbconvert_exporter": "python",
   "pygments_lexer": "ipython3",
   "version": "3.7.1"
  }
 },
 "nbformat": 4,
 "nbformat_minor": 2
}
