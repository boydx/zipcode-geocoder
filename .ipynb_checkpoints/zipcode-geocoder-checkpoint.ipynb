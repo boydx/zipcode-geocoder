{
 "cells": [
  {
   "cell_type": "markdown",
   "metadata": {},
   "source": [
    "# Simple zip code geocoder\n",
    "\n",
    "US list from: https://www.census.gov/geo/maps-data/data/cbf/cbf_zcta.html\n",
    "Created centroids from file and exported as CSV\n",
    "\n",
    "## Requirements\n",
    "Input CSV file must have a zip code field encoded as a string."
   ]
  },
  {
   "cell_type": "code",
   "execution_count": 1,
   "metadata": {},
   "outputs": [],
   "source": [
    "import csv\n",
    "yourAddresses = \"addresses.csv\"\n",
    "yourResults = \"results-test.csv\""
   ]
  },
  {
   "cell_type": "code",
   "execution_count": 9,
   "metadata": {},
   "outputs": [],
   "source": [
    "# Open the CSV file and load it into an iterable list\n",
    "with open(\"zipcodes_latlng.csv\") as zipcodes:\n",
    "    # Create iterable csv.reader object\n",
    "    zips = csv.reader(zipcodes)\n",
    "    # Let's create a list of tuples for all US zip codes.\n",
    "    # for row in zips:\n",
    "    usdict = dict((row[0],[row[-2],row[-1]]) for i, row in enumerate(zips))"
   ]
  },
  {
   "cell_type": "code",
   "execution_count": 14,
   "metadata": {},
   "outputs": [
    {
     "name": "stdout",
     "output_type": "stream",
     "text": [
      "-88.1935912300\n"
     ]
    }
   ],
   "source": [
    "# print(usdict['35442'])\n",
    "# print(usdict)\n",
    "if '35442' in usdict:\n",
    "    print (usdict['35442'][0])"
   ]
  },
  {
   "cell_type": "code",
   "execution_count": 19,
   "metadata": {},
   "outputs": [
    {
     "name": "stdout",
     "output_type": "stream",
     "text": [
      "####\n",
      "4103: no match\n",
      "####\n",
      "####\n",
      "8244: no match\n",
      "####\n",
      "####\n",
      "123456: no match\n",
      "####\n",
      "####\n",
      "na: no match\n",
      "####\n",
      "####\n",
      "2445: no match\n",
      "####\n",
      "####\n",
      "8724: no match\n",
      "####\n",
      "####\n",
      "L2N4C3: no match\n",
      "####\n",
      "####\n",
      "5999: no match\n",
      "####\n",
      "####\n",
      "V4T1B9: no match\n",
      "####\n",
      "####\n",
      "HT7120: no match\n",
      "####\n",
      "####\n",
      "100102: no match\n",
      "####\n"
     ]
    }
   ],
   "source": [
    "# Open the addresses CSV and create a results file\n",
    "with open(yourAddresses) as addresses:\n",
    "    with open(yourResults, 'w') as results:    \n",
    "        reader = csv.reader(addresses)\n",
    "        writer = csv.writer(results, quotechar = '\"', quoting=csv.QUOTE_ALL)\n",
    "       \n",
    "        # Add field labels\n",
    "        writer.writerow(next(reader, []) + ['x', 'y'])\n",
    "        \n",
    "        # Iterate through addresses and compare each zip code to all zip codes in US list. 32k+ zip codes \n",
    "        # Geocoding about 670 addresses per second\n",
    "        for row in reader:\n",
    "            # Default that it is not found. Will geocode to Null Island.\n",
    "            x = False \n",
    "\n",
    "            # Compare selected zip code to all us zip codes, 32k+\n",
    "            if row[2] in usdict:\n",
    "                writer.writerow(row + [usdict[row[2]][0],usdict[row[2]][1]])\n",
    "                x = True # Mark true to say we've got a match!\n",
    "  \n",
    "            if x == False:\n",
    "                print(f\"####\\n{row[2]}: no match\\n####\")\n",
    "                writer.writerow(row + [0,0]) # Null island, ahoy!\n",
    "        \n",
    "                "
   ]
  },
  {
   "cell_type": "code",
   "execution_count": null,
   "metadata": {},
   "outputs": [],
   "source": []
  }
 ],
 "metadata": {
  "kernelspec": {
   "display_name": "Python 3",
   "language": "python",
   "name": "python3"
  },
  "language_info": {
   "codemirror_mode": {
    "name": "ipython",
    "version": 3
   },
   "file_extension": ".py",
   "mimetype": "text/x-python",
   "name": "python",
   "nbconvert_exporter": "python",
   "pygments_lexer": "ipython3",
   "version": "3.6.5"
  }
 },
 "nbformat": 4,
 "nbformat_minor": 2
}
