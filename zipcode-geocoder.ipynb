{
 "cells": [
  {
   "cell_type": "markdown",
   "metadata": {},
   "source": [
    "# Simple zip code geocoder\n",
    "\n",
    "Submit a CSV of zip codes or world FIPS code and get the centroid of that code's polygon. Writes out the input CSV plus the longitude, and latitude of the centroid. If a match is not found, it will get Null Island.\n",
    "\n",
    "\n",
    "## Centroids derived from polygon layers\n",
    "US list from: https://www.census.gov/geo/maps-data/data/cbf/cbf_zcta.html\n",
    "World states and provinces from: https://www.naturalearthdata.com/downloads/10m-cultural-vectors/\n",
    "\n",
    "## Requirements\n",
    "Input CSV file must have a zip code or world FIPS code field encoded as a string. Look at the [zip code csv](zipcodes_latlng.csv) or the [world FIPS code CSV](world_states_latlng.csv) to make sure your address input has a correct value."
   ]
  },
  {
   "cell_type": "code",
   "execution_count": 94,
   "metadata": {},
   "outputs": [],
   "source": [
    "import csv\n",
    "import random\n",
    "import subprocess\n",
    "yourAddresses = \"addresses.csv\"\n",
    "yourResults = \"geocoded_addresses.csv\""
   ]
  },
  {
   "cell_type": "code",
   "execution_count": 95,
   "metadata": {},
   "outputs": [],
   "source": [
    "# Open the CSV file and load it into an iterable list\n",
    "with open(\"zipcodes_latlng.csv\") as zipcodes:\n",
    "    # Create iterable csv.reader object\n",
    "    zips = csv.reader(zipcodes)\n",
    "    # Let's create a dictionary of centroids for all US zip codes. Note that i isn't used. \n",
    "    usdict = dict((row[0],[row[-2],row[-1]]) for i, row in enumerate(zips))"
   ]
  },
  {
   "cell_type": "code",
   "execution_count": 96,
   "metadata": {},
   "outputs": [],
   "source": [
    "with open(\"world_states_latlng.csv\") as world:\n",
    "    # Create iterable csv.reader object\n",
    "    worldProvs = csv.reader(world)\n",
    "    # Let's create a dictionary of centroids of world provinces\n",
    "    worlddict = dict((row[6],[row[-2],row[-1]]) for i, row in enumerate(worldProvs))"
   ]
  },
  {
   "cell_type": "code",
   "execution_count": 97,
   "metadata": {},
   "outputs": [
    {
     "name": "stdout",
     "output_type": "stream",
     "text": [
      "####\n",
      "4103: no match. Attempting world provinences @ AS04\n",
      "####\n",
      "####\n",
      "123456: no match. Attempting world provinences @ PK05\n",
      "####\n",
      "####\n",
      "na: no match. Attempting world provinences @ AE01\n",
      "####\n",
      "####\n",
      "L2N4C3: no match. Attempting world provinences @ CA08\n",
      "####\n",
      "*********************\n",
      "5999 or ??: Null Island\n",
      "********************\n",
      "####\n",
      "V4T1B9: no match. Attempting world provinences @ CA02\n",
      "####\n",
      "####\n",
      "HT7120: no match. Attempting world provinences @ HA14\n",
      "####\n",
      "####\n",
      "100102: no match. Attempting world provinences @ CH22\n",
      "####\n"
     ]
    }
   ],
   "source": [
    "# Open the addresses CSV and create a results file\n",
    "with open(yourAddresses) as addresses:\n",
    "    with open(\"temp.csv\", 'w') as results:    \n",
    "        reader = csv.reader(addresses)\n",
    "        writer = csv.writer(results, quotechar = '\"', quoting=csv.QUOTE_ALL)\n",
    "       \n",
    "        # Add field labels\n",
    "        writer.writerow(next(reader, []) + ['x', 'y'])\n",
    "        \n",
    "        # Iterate through addresses and compare each zip code to all zip codes in US list. 32k+ zip codes \n",
    "        # Geocoding about 670 addresses per second\n",
    "        for row in reader:\n",
    "            \n",
    "            # Compare selected zip code to all us zip codes, 32k+\n",
    "            if row[2] in usdict:\n",
    "                writer.writerow(row + [usdict[row[2]][0],usdict[row[2]][1]])\n",
    "\n",
    "            # Compare to world states/provences FIPS code\n",
    "            elif row[5] in worlddict:\n",
    "                print(f\"####\\n{row[2]}: no match. Attempting world provinences @ {row[5]}\\n####\")\n",
    "                writer.writerow(row + [worlddict[row[5]][0],worlddict[row[5]][1]])\n",
    "                \n",
    "            else:\n",
    "                # Null Island, ahoy!\n",
    "                print(f\"*********************\\n{row[2]} or {row[5]}: Null Island\\n********************\")\n",
    "                writer.writerow(row + [0,0])\n",
    "        \n",
    "                "
   ]
  },
  {
   "cell_type": "code",
   "execution_count": 98,
   "metadata": {},
   "outputs": [],
   "source": [
    "# Check for duplicates and add some fuzz to the location to prevent coincident points\n",
    "\n",
    "with open(\"temp.csv\") as addresses:\n",
    "    reader = csv.reader(addresses)\n",
    "    dupcheck = dict((row[-2], row[-1]) for i, row in enumerate(reader))\n",
    "    \n",
    "\n",
    "count = {}\n",
    "\n",
    "with open(\"temp.csv\") as addresses:\n",
    "    with open(yourResults, 'w') as results: \n",
    "        reader = csv.reader(addresses)\n",
    "        writer = csv.writer(results, quotechar = '\"', quoting=csv.QUOTE_ALL)\n",
    "        for row in reader:\n",
    "            if row[-2] in dupcheck:\n",
    "                count[row[-2]] = count.get(row[-2],0) + 1\n",
    "            if count[row[-2]] > 1:\n",
    "                a = random.random() * .001 * random.randrange(-1,2,2)\n",
    "                b = random.random() * .001 * random.randrange(-1,2,2)\n",
    "                row[-2] = str(float(row[-2]) + a)\n",
    "                row[-1] = str(float(row[-1]) + b)\n",
    "            writer.writerow(row)\n"
   ]
  },
  {
   "cell_type": "code",
   "execution_count": 99,
   "metadata": {},
   "outputs": [
    {
     "data": {
      "text/plain": [
       "CompletedProcess(args='rm temp.csv', returncode=0, stdout=b'')"
      ]
     },
     "execution_count": 99,
     "metadata": {},
     "output_type": "execute_result"
    }
   ],
   "source": [
    "subprocess.run('rm temp.csv', shell=True, stdout=subprocess.PIPE)"
   ]
  },
  {
   "cell_type": "code",
   "execution_count": null,
   "metadata": {},
   "outputs": [],
   "source": []
  }
 ],
 "metadata": {
  "kernelspec": {
   "display_name": "Python 3",
   "language": "python",
   "name": "python3"
  },
  "language_info": {
   "codemirror_mode": {
    "name": "ipython",
    "version": 3
   },
   "file_extension": ".py",
   "mimetype": "text/x-python",
   "name": "python",
   "nbconvert_exporter": "python",
   "pygments_lexer": "ipython3",
   "version": "3.7.1"
  }
 },
 "nbformat": 4,
 "nbformat_minor": 2
}
